{
 "cells": [
  {
   "cell_type": "code",
   "execution_count": 26,
   "metadata": {},
   "outputs": [
    {
     "name": "stdout",
     "output_type": "stream",
     "text": [
      "{'name': 'Dotun', 'Surname': 'Adeoye', 'Age': 31, 'courses': ['Math', 'Computer Science']}\n",
      "31\n",
      "['Math', 'Computer Science']\n",
      "Dotun\n",
      "None\n",
      "None Not Found\n"
     ]
    }
   ],
   "source": [
    "# Key and pair\n",
    "student = {'name': 'Dotun', 'Surname': 'Adeoye', 'Age': 31, 'courses': ['Math', 'Computer Science']}\n",
    "\n",
    "print(student)\n",
    "print(student['Age'])\n",
    "print(student['courses'])\n",
    "print(student.get('name'))\n",
    "# to return what does not exist\n",
    "print(student.get('phone'))\n",
    "print(student.get('phone'), 'Not Found')\n"
   ]
  },
  {
   "cell_type": "code",
   "execution_count": 27,
   "metadata": {},
   "outputs": [
    {
     "name": "stdout",
     "output_type": "stream",
     "text": [
      "306 201 7438\n",
      "{'name': 'Oludotun', 'Surname': 'Adeoye', 'Age': 31, 'courses': ['Math', 'Computer Science'], 'phone': '306 201 7438'}\n",
      "{'name': 'Oludotun', 'Surname': 'Adeoye', 'courses': ['Math', 'Computer Science'], 'phone': '306 201 7438'}\n"
     ]
    }
   ],
   "source": [
    "#Adding values to entry\n",
    "student['phone'] = '306 201 7438'\n",
    "print(student.get('phone'))\n",
    "\n",
    "# To update the dictionary\n",
    "student.update({'name': 'Oludotun'})\n",
    "print(student)\n",
    "# Two ways to delete key pair\n",
    "del student['Age']\n",
    "#age = student.pop('Age')\n",
    "print(student)\n"
   ]
  },
  {
   "cell_type": "code",
   "execution_count": 34,
   "metadata": {},
   "outputs": [
    {
     "name": "stdout",
     "output_type": "stream",
     "text": [
      "dict_items([('name', 'Oludotun'), ('Surname', 'Adeoye'), ('courses', ['Math', 'Computer Science']), ('phone', '306 201 7438')])\n",
      "name : Oludotun\n",
      "Surname : Adeoye\n",
      "courses : ['Math', 'Computer Science']\n",
      "phone : 306 201 7438\n"
     ]
    }
   ],
   "source": [
    "print(student.items())\n",
    "\n",
    "for key, value in student.items():\n",
    "    print(key + ' : ' + str(value))"
   ]
  },
  {
   "cell_type": "code",
   "execution_count": null,
   "metadata": {},
   "outputs": [],
   "source": []
  }
 ],
 "metadata": {
  "kernelspec": {
   "display_name": "Python 3",
   "language": "python",
   "name": "python3"
  },
  "language_info": {
   "codemirror_mode": {
    "name": "ipython",
    "version": 3
   },
   "file_extension": ".py",
   "mimetype": "text/x-python",
   "name": "python",
   "nbconvert_exporter": "python",
   "pygments_lexer": "ipython3",
   "version": "3.7.3"
  }
 },
 "nbformat": 4,
 "nbformat_minor": 2
}
