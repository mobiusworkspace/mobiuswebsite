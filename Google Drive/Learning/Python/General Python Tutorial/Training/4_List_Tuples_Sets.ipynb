{
 "cells": [
  {
   "cell_type": "code",
   "execution_count": 12,
   "metadata": {},
   "outputs": [
    {
     "name": "stdout",
     "output_type": "stream",
     "text": [
      "['History', 'Maths', 'Statistics', 'Chemistry']\n",
      "Statistics\n",
      "Chemistry\n",
      "['History', 'Maths']\n",
      "['Statistics', 'Chemistry']\n"
     ]
    }
   ],
   "source": [
    "#List\n",
    "courses = ['History', 'Maths', 'Statistics', 'Chemistry']\n",
    "print(courses)\n",
    "print(courses[2])\n",
    "#To get the last item\n",
    "print(courses[-1])\n",
    "print(courses[0:2])\n",
    "print(courses[2:])"
   ]
  },
  {
   "cell_type": "code",
   "execution_count": 13,
   "metadata": {},
   "outputs": [
    {
     "name": "stdout",
     "output_type": "stream",
     "text": [
      "['History', 'Maths', 'Statistics', 'Chemistry', 'Art']\n"
     ]
    }
   ],
   "source": [
    "courses.append('Art')\n",
    "print(courses)"
   ]
  },
  {
   "cell_type": "code",
   "execution_count": 14,
   "metadata": {},
   "outputs": [],
   "source": [
    "courses.insert(1, 'Biology')"
   ]
  },
  {
   "cell_type": "code",
   "execution_count": 18,
   "metadata": {},
   "outputs": [
    {
     "name": "stdout",
     "output_type": "stream",
     "text": [
      "['History', 'Biology', 'Maths', 'Statistics', 'Chemistry', 'Art']\n",
      "Help on method_descriptor:\n",
      "\n",
      "extend(self, iterable, /)\n",
      "    Extend list by appending elements from the iterable.\n",
      "\n",
      "None\n"
     ]
    }
   ],
   "source": [
    "print(courses)"
   ]
  },
  {
   "cell_type": "code",
   "execution_count": 24,
   "metadata": {},
   "outputs": [
    {
     "name": "stdout",
     "output_type": "stream",
     "text": [
      "['History', 'Biology', 'Maths', 'Statistics', 'Chemistry', 'Art', 'English', 'Operations']\n"
     ]
    }
   ],
   "source": [
    "courses2 = ['English', 'Operations']\n",
    "courses.extend( courses2)\n",
    "print(courses)"
   ]
  },
  {
   "cell_type": "code",
   "execution_count": 25,
   "metadata": {},
   "outputs": [
    {
     "name": "stdout",
     "output_type": "stream",
     "text": [
      "['History', 'Biology', 'Maths', 'Statistics', 'Chemistry', 'Art']\n"
     ]
    }
   ],
   "source": [
    "courses.remove('Operations')\n",
    "courses.remove('English')\n",
    "print(courses)"
   ]
  },
  {
   "cell_type": "code",
   "execution_count": 26,
   "metadata": {},
   "outputs": [
    {
     "name": "stdout",
     "output_type": "stream",
     "text": [
      "['History', 'Biology', 'Maths', 'Statistics', 'Chemistry']\n"
     ]
    }
   ],
   "source": [
    "courses.pop()\n",
    "print(courses)"
   ]
  },
  {
   "cell_type": "code",
   "execution_count": 31,
   "metadata": {},
   "outputs": [
    {
     "name": "stdout",
     "output_type": "stream",
     "text": [
      "['Chemistry', 'Statistics', 'Maths', 'Biology', 'History']\n"
     ]
    }
   ],
   "source": [
    "courses.reverse()\n",
    "print(courses)\n"
   ]
  },
  {
   "cell_type": "code",
   "execution_count": 32,
   "metadata": {},
   "outputs": [
    {
     "name": "stdout",
     "output_type": "stream",
     "text": [
      "['Biology', 'Chemistry', 'History', 'Maths', 'Statistics']\n"
     ]
    }
   ],
   "source": [
    "#To sort\n",
    "courses.sort()\n",
    "print(courses)"
   ]
  },
  {
   "cell_type": "code",
   "execution_count": 38,
   "metadata": {},
   "outputs": [
    {
     "name": "stdout",
     "output_type": "stream",
     "text": [
      "[2, 3, 3, 5, 6, 6, 8]\n",
      "[8, 6, 6, 5, 3, 3, 2]\n",
      "['Biology', 'Chemistry', 'History', 'Maths', 'Statistics']\n"
     ]
    }
   ],
   "source": [
    "numbers = [3,5,2,6,8,6,3]\n",
    "numbers.sort()\n",
    "print(numbers)\n",
    "numbers.sort(reverse=True)\n",
    "print(numbers)\n",
    "#This only returns a sorted version\n",
    "sourtedCourses = sorted(courses)\n",
    "print(sourtedCourses)"
   ]
  },
  {
   "cell_type": "code",
   "execution_count": 39,
   "metadata": {},
   "outputs": [
    {
     "name": "stdout",
     "output_type": "stream",
     "text": [
      "3\n"
     ]
    }
   ],
   "source": [
    "#Get index of value in the list\n",
    "print(courses.index('Maths'))"
   ]
  },
  {
   "cell_type": "code",
   "execution_count": 42,
   "metadata": {},
   "outputs": [
    {
     "name": "stdout",
     "output_type": "stream",
     "text": [
      "False\n",
      "True\n"
     ]
    }
   ],
   "source": [
    "print('Art' in courses)\n",
    "print('Maths' in courses)"
   ]
  },
  {
   "cell_type": "code",
   "execution_count": 43,
   "metadata": {},
   "outputs": [
    {
     "name": "stdout",
     "output_type": "stream",
     "text": [
      "Biology\n",
      "Chemistry\n",
      "History\n",
      "Maths\n",
      "Statistics\n"
     ]
    }
   ],
   "source": [
    "for item in courses:\n",
    "    print(item)"
   ]
  },
  {
   "cell_type": "code",
   "execution_count": 46,
   "metadata": {},
   "outputs": [
    {
     "name": "stdout",
     "output_type": "stream",
     "text": [
      "(0, 'Biology')\n",
      "(1, 'Chemistry')\n",
      "(2, 'History')\n",
      "(3, 'Maths')\n",
      "(4, 'Statistics')\n"
     ]
    }
   ],
   "source": [
    "# To get index and value\n",
    "for course in enumerate(courses):\n",
    "    print(course)"
   ]
  },
  {
   "cell_type": "code",
   "execution_count": 48,
   "metadata": {},
   "outputs": [
    {
     "name": "stdout",
     "output_type": "stream",
     "text": [
      "1 Biology\n",
      "2 Chemistry\n",
      "3 History\n",
      "4 Maths\n",
      "5 Statistics\n"
     ]
    }
   ],
   "source": [
    "for index, course in enumerate(courses, start=1):\n",
    "    print(index, course)"
   ]
  },
  {
   "cell_type": "code",
   "execution_count": 53,
   "metadata": {},
   "outputs": [
    {
     "name": "stdout",
     "output_type": "stream",
     "text": [
      "Biology, Chemistry, History, Maths, Statistics\n",
      "Biology - Chemistry - History - Maths - Statistics\n"
     ]
    }
   ],
   "source": [
    "course_str = ', '.join(courses)\n",
    "print(course_str)\n",
    "course_str = ' - '.join(courses)\n",
    "print(course_str)"
   ]
  },
  {
   "cell_type": "code",
   "execution_count": 54,
   "metadata": {},
   "outputs": [
    {
     "name": "stdout",
     "output_type": "stream",
     "text": [
      "['Biology', 'Chemistry', 'History', 'Maths', 'Statistics']\n"
     ]
    }
   ],
   "source": [
    "new_list = course_str.split(' - ')\n",
    "print(new_list)"
   ]
  },
  {
   "cell_type": "code",
   "execution_count": 56,
   "metadata": {},
   "outputs": [
    {
     "name": "stdout",
     "output_type": "stream",
     "text": [
      "['Biology', 'Chemistry', 'History', 'Maths', 'Statistics']\n",
      "['Biology', 'Chemistry', 'History', 'Maths', 'Statistics']\n",
      "['Commerce', 'Chemistry', 'History', 'Maths', 'Statistics']\n",
      "['Commerce', 'Chemistry', 'History', 'Maths', 'Statistics']\n"
     ]
    }
   ],
   "source": [
    "#Tuples. This cannot be modified. They are immutable\n",
    "#Starting with a list example\n",
    "courses2 = courses\n",
    "print(courses)\n",
    "print(courses2)\n",
    "courses[0] = 'Commerce'\n",
    "print(courses)\n",
    "print(courses2)"
   ]
  },
  {
   "cell_type": "code",
   "execution_count": 60,
   "metadata": {},
   "outputs": [
    {
     "name": "stdout",
     "output_type": "stream",
     "text": [
      "('Biology', 'Chemistry', 'History', 'Maths', 'Statistics')\n",
      "('Biology', 'Chemistry', 'History', 'Maths', 'Statistics')\n"
     ]
    },
    {
     "ename": "TypeError",
     "evalue": "'tuple' object does not support item assignment",
     "output_type": "error",
     "traceback": [
      "\u001b[1;31m---------------------------------------------------------------------------\u001b[0m",
      "\u001b[1;31mTypeError\u001b[0m                                 Traceback (most recent call last)",
      "\u001b[1;32m<ipython-input-60-19f6bc16fd71>\u001b[0m in \u001b[0;36m<module>\u001b[1;34m\u001b[0m\n\u001b[0;32m      4\u001b[0m \u001b[0mprint\u001b[0m\u001b[1;33m(\u001b[0m\u001b[0mcourseT\u001b[0m\u001b[1;33m)\u001b[0m\u001b[1;33m\u001b[0m\u001b[1;33m\u001b[0m\u001b[0m\n\u001b[0;32m      5\u001b[0m \u001b[0mprint\u001b[0m\u001b[1;33m(\u001b[0m\u001b[0mcourseT2\u001b[0m\u001b[1;33m)\u001b[0m\u001b[1;33m\u001b[0m\u001b[1;33m\u001b[0m\u001b[0m\n\u001b[1;32m----> 6\u001b[1;33m \u001b[0mcourseT\u001b[0m\u001b[1;33m[\u001b[0m\u001b[1;36m0\u001b[0m\u001b[1;33m]\u001b[0m \u001b[1;33m=\u001b[0m \u001b[1;34m'Commerce'\u001b[0m\u001b[1;33m\u001b[0m\u001b[1;33m\u001b[0m\u001b[0m\n\u001b[0m\u001b[0;32m      7\u001b[0m \u001b[0mprint\u001b[0m\u001b[1;33m(\u001b[0m\u001b[0mcourseT\u001b[0m\u001b[1;33m)\u001b[0m\u001b[1;33m\u001b[0m\u001b[1;33m\u001b[0m\u001b[0m\n\u001b[0;32m      8\u001b[0m \u001b[0mprint\u001b[0m\u001b[1;33m(\u001b[0m\u001b[0mcourseT2\u001b[0m\u001b[1;33m)\u001b[0m\u001b[1;33m\u001b[0m\u001b[1;33m\u001b[0m\u001b[0m\n",
      "\u001b[1;31mTypeError\u001b[0m: 'tuple' object does not support item assignment"
     ]
    }
   ],
   "source": [
    "# Creating Dictionary\n",
    "courseT = ('Biology', 'Chemistry', 'History', 'Maths', 'Statistics')\n",
    "courseT2 = courseT\n",
    "print(courseT)\n",
    "print(courseT2)\n",
    "courseT[0] = 'Commerce'\n",
    "print(courseT)\n",
    "print(courseT2)\n"
   ]
  },
  {
   "cell_type": "code",
   "execution_count": 63,
   "metadata": {},
   "outputs": [
    {
     "name": "stdout",
     "output_type": "stream",
     "text": [
      "1\n",
      "6\n",
      "21\n"
     ]
    }
   ],
   "source": [
    "numbs = [1,5,6,3,6]\n",
    "print(min(numbs))\n",
    "print(max(numbs))\n",
    "print(sum(numbs))\n"
   ]
  },
  {
   "cell_type": "code",
   "execution_count": 76,
   "metadata": {},
   "outputs": [
    {
     "name": "stdout",
     "output_type": "stream",
     "text": [
      "{'Statistics', 'History', 'Maths', 'Physics'}\n",
      "set()\n"
     ]
    }
   ],
   "source": [
    "# To get the difference between SET\n",
    "# SET.. No duplicate and are unordered\n",
    "#Use to test the relationships between SETS\n",
    "csCourse = {'Physics', 'History', 'Maths', 'Statistics'}\n",
    "gnCourse = {'Commerce', 'Physics', 'History', 'Maths', 'Statistics'}\n",
    "print(csCourse.intersection(gnCourse))\n",
    "print(csCourse.difference(gnCourse))"
   ]
  },
  {
   "cell_type": "code",
   "execution_count": null,
   "metadata": {},
   "outputs": [],
   "source": []
  }
 ],
 "metadata": {
  "kernelspec": {
   "display_name": "Python 3",
   "language": "python",
   "name": "python3"
  },
  "language_info": {
   "codemirror_mode": {
    "name": "ipython",
    "version": 3
   },
   "file_extension": ".py",
   "mimetype": "text/x-python",
   "name": "python",
   "nbconvert_exporter": "python",
   "pygments_lexer": "ipython3",
   "version": "3.7.3"
  }
 },
 "nbformat": 4,
 "nbformat_minor": 2
}
