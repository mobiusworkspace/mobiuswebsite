{
 "cells": [
  {
   "cell_type": "code",
   "execution_count": 18,
   "metadata": {},
   "outputs": [
    {
     "name": "stdout",
     "output_type": "stream",
     "text": [
      "This is java\n"
     ]
    }
   ],
   "source": [
    "language = 'Java'\n",
    "\n",
    "\n",
    "if (language.upper()=='Python'.upper()):\n",
    "    print('This is python')\n",
    "elif (language.upper()=='Java'.upper()):\n",
    "    print('This is java')\n",
    "else:\n",
    "    print('This is a wierd language')"
   ]
  },
  {
   "cell_type": "code",
   "execution_count": 21,
   "metadata": {},
   "outputs": [
    {
     "name": "stdout",
     "output_type": "stream",
     "text": [
      "Invalid login credentials\n"
     ]
    }
   ],
   "source": [
    "user = 'Admin'\n",
    "logged_in = False\n",
    "\n",
    "if ((user=='Admin') and (logged_in==True)):\n",
    "    print('Welcome to the Admin page')\n",
    "else:\n",
    "    print('Invalid login credentials')\n",
    "        "
   ]
  },
  {
   "cell_type": "code",
   "execution_count": 26,
   "metadata": {},
   "outputs": [
    {
     "name": "stdout",
     "output_type": "stream",
     "text": [
      "True\n",
      "False\n",
      "3138242776072\n",
      "3138242390408\n",
      "3138242776072\n",
      "3138242776072\n",
      "True\n"
     ]
    }
   ],
   "source": [
    "a = [1,2,3]\n",
    "b = [1,2,3]\n",
    "\n",
    "#checks the value\n",
    "print(a==b)\n",
    "#Checks the object in memory\n",
    "print(a is b)\n",
    "\n",
    "# To get the memory address location of the created objects\n",
    "print(id(a))\n",
    "print(id(b))\n",
    "\n",
    "#to assign the memories\n",
    "b = a\n",
    "print(id(a))\n",
    "print(id(b))\n",
    "print(a is b)"
   ]
  },
  {
   "cell_type": "code",
   "execution_count": 27,
   "metadata": {},
   "outputs": [
    {
     "name": "stdout",
     "output_type": "stream",
     "text": [
      "False\n"
     ]
    }
   ],
   "source": [
    "a = []\n",
    "\n",
    "print(a==True)"
   ]
  },
  {
   "cell_type": "code",
   "execution_count": null,
   "metadata": {},
   "outputs": [],
   "source": []
  }
 ],
 "metadata": {
  "kernelspec": {
   "display_name": "Python 3",
   "language": "python",
   "name": "python3"
  },
  "language_info": {
   "codemirror_mode": {
    "name": "ipython",
    "version": 3
   },
   "file_extension": ".py",
   "mimetype": "text/x-python",
   "name": "python",
   "nbconvert_exporter": "python",
   "pygments_lexer": "ipython3",
   "version": "3.7.3"
  }
 },
 "nbformat": 4,
 "nbformat_minor": 2
}
